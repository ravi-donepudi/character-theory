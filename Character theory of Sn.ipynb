{
 "cells": [
  {
   "cell_type": "markdown",
   "metadata": {},
   "source": [
    "# Theory:\n",
    "1. The characters correspoding to the distinct irreducible representations of a finite group $G$ form an orthonormal basis for the space of class functions with respect to the inner product $$ (\\chi,\\psi)=\\frac{1}{|G|}\\sum_{g\\in G} \\chi(g)\\overline{\\psi(g)}.$$ We will call these **irreducible characters**.\n",
    "\n",
    "2. The character of any representation of $G$ is a **non-negative integer** linear combination of the irreducible characters.\n",
    "\n",
    "3. A character $\\chi$ attached to a representation is irreducible if and only if $(\\chi,\\chi)=1$\n",
    "\n",
    "4. The trivial character $\\chi_0(g)=1$ is always an irreducible representation\n",
    "\n",
    "5. The number of irreducible characters of **G** is equal to the number of conjugacy classes. \n",
    "\n",
    "# Procedure to find all irreps of $S_n$.\n",
    "\n",
    "1.  Start a partial list of irreps called $L_{irr}$ and add the trivial character of $S_n$ to it.\n",
    "2.  Assume we have the character tables of all the $S_i$ for all $i<n$.\n",
    "3.  Induce all the characters of the $S_i$ to $S_n$ for $i<n$ and add them to the list $L_{ind}$.(Command: all_induced_characters(G,H))\n",
    "4.  Induce all the characters of the subgroups $S_{i_1}\\times \\cdots \\times S_{i_r}$ for $i_1+\\cdots i_r \\leq n$ and add them to $L_{ind}$.\n",
    "5.  Check if any of the characters in $L_{ind}$ are already irreducible. If so add them to $L_{irr}$.\n",
    "6.  For each character in $L_{ind}$, project them onto the subspace spanned by the current elements of $L_{irr}$ and check if the orthogonal component is an irreducible character. If so add it to L and remove it from $L_{ind}$.\n",
    "7.  Repeat step 5 as long as the size of $L_{ind}$ is reducing with each iteration. Our conjecture is that this procedure will always exhaust $L_{ind}$ and fill up $L_{irr}$ to the full set of irreducible characters of $G$."
   ]
  },
  {
   "cell_type": "code",
   "execution_count": 104,
   "metadata": {},
   "outputs": [],
   "source": [
    "def lifted_character(G,H,chi):\n",
    "#Lifts a character chi from a quotient G/H to the larger group G. \n",
    "    if H.is_normal(G):\n",
    "        char=[0]*len(G.conjugacy_classes())\n",
    "        Q=G.quotient(H)\n",
    "        for g in G.conjugacy_classes_representatives():\n",
    "            char[G.conjugacy_classes_representatives().index(g)]=chi[Q.conjugacy_classes().index(Q.conjugacy_class(Q(g)))]\n",
    "        return char    \n",
    "    else:\n",
    "        print(\"Cannot quotient by non-normal subgroups, so no characters to lift!\")\n",
    "    \n",
    "def inner_product(G,chi,rho):\n",
    "#Computes the inner product of characters chi and rho\n",
    "    ip=0\n",
    "    sum_ = sum([len(G.conjugacy_classes()[i])*chi[i]*conjugate(rho[i]) for i in range(0,len(chi))])\n",
    "    return 1/len(G)*sum_\n",
    "\n",
    "def induced_character(G,H,chi):\n",
    "#Induces a character chi from a subgroup H to the whole group G\n",
    "    induced_char=[0]*len(G.conjugacy_classes())\n",
    "    index = G.order()/H.order()\n",
    "    for C in G.conjugacy_classes():\n",
    "        sum=0\n",
    "        for g in C:   \n",
    "            if g in H:\n",
    "                g=H(g)\n",
    "                sum=sum+chi[H.conjugacy_classes().index(g.conjugacy_class())]\n",
    "        induced_char[G.conjugacy_classes().index(C)]=index/len(C)*sum\n",
    "    return induced_char    \n",
    "\n",
    "def all_induced_characters(G,H):\n",
    "#Takes all the irreducible characters of H and induces them to G using the induced_character command \n",
    "    return [induced_character(G,H,char) for char in H.character_table()]\n",
    "\n",
    "def is_irreducible(G,chi):\n",
    "    if inner_product(G,chi)==1:\n",
    "        return True\n",
    "    return False\n",
    "\n",
    "def trivial_rep(G):\n",
    "    return [1]*len(G.conjugacy_classes())\n",
    "def orth_comp(G, chi, psi):\n",
    "    return sub(chi, inner_product(G,chi,psi)*psi)\n",
    "\n",
    "def comp(l,b,a):\n",
    "    K=[0]*l\n",
    "    for i in range(0,l):\n",
    "        K[i]=list[b][i]-a[0]*P[0][i]-a[1]*P[1][i]-a[2]*P[2][i]-a[3]*P[3][i]-a[4]*P[4][i]-a[5]*P[5][i]-a[6]*P[6][i]-a[7]*P[7][i]\n",
    "    return K,inner_product(G,K,K)   \n",
    "    \n",
    "def dec(k,r):#k is ith induced character, r is number of irreds constructed so far\n",
    "    ls=[]\n",
    "    for i in range(0,r):\n",
    "        ls.append(inner_product(G,list[k],P[i]))\n",
    "    return ls\n",
    "\n",
    "def sub(l1,l2):\n",
    "    #\n",
    "    if len(l1)!=len(l2):\n",
    "        print(\"Error, list sizes dont match\")\n",
    "    else:\n",
    "        return [ l1[i]-l2[i] for i in range(len(l1))]\n",
    "\n"
   ]
  },
  {
   "cell_type": "code",
   "execution_count": 94,
   "metadata": {},
   "outputs": [
    {
     "name": "stdout",
     "output_type": "stream",
     "text": [
      "The list of induced characters is [[3, -1, 0], [3, 1, 0]]\n",
      "The number of irred characters we need is 3\n",
      "The current list of irred characters is [[1, 1, 1]]\n"
     ]
    }
   ],
   "source": [
    "#We are inducing all the characters of S_2 to S_3. Then we are making a partial list of irred characters of G we've found so far.\n",
    "#Add the trivial character to the list. We will stop when we hit the full number\n",
    "G=SymmetricGroup(3)\n",
    "H=SymmetricGroup(2)\n",
    "L_ind=all_induced_characters(G,H);\n",
    "print(\"The list of induced characters is\", L_ind)\n",
    "print(\"The number of irred characters we need is\" , len(G.conjugacy_classes()))\n",
    "L_irr= [[1,1,1]]\n",
    "print(\"The current list of irred characters is\", L_irr )"
   ]
  },
  {
   "cell_type": "code",
   "execution_count": 103,
   "metadata": {},
   "outputs": [
    {
     "name": "stdout",
     "output_type": "stream",
     "text": [
      "0 , 0 , inner product: 0\n",
      "1 , 0 , inner product: 1\n"
     ]
    }
   ],
   "source": [
    "for chi in L_ind:\n",
    "    for psi in L_irr:\n",
    "        print(L_ind.index(chi),\",\", L_irr.index(psi), \", inner product:\", inner_product(G,chi,psi))\n",
    "#This shows that the character h[0] doesn't contain the trivial rep but h[1] has one copy of the trivial representation"
   ]
  },
  {
   "cell_type": "code",
   "execution_count": 89,
   "metadata": {},
   "outputs": [
    {
     "name": "stdout",
     "output_type": "stream",
     "text": [
      "1\n"
     ]
    }
   ],
   "source": [
    "#Subtract off the trivial representation from L_ind to get a new character. Check if it is irreducible. It is, so add it to L_irr\n",
    "new_char1 =sub(L1[1],trivial_rep(G))\n",
    "print(inner_product(G,new_char1,new_char1))\n",
    "L0.append(new_char1)"
   ]
  },
  {
   "cell_type": "code",
   "execution_count": 86,
   "metadata": {},
   "outputs": [
    {
     "data": {
      "text/plain": [
       "[[1, 1, 1], [2, 0, -1], [2, 0, -1], [2, 0, -1]]"
      ]
     },
     "execution_count": 86,
     "metadata": {},
     "output_type": "execute_result"
    }
   ],
   "source": [
    "inner_product(G,L1[1],new_char)\n",
    "print(sub(L1[0],new_char))\n",
    "print(inner_product(G,sub(L1[0],new_char),sub(L1[0],new_char)))\n",
    "L0.append()"
   ]
  }
 ],
 "metadata": {
  "kernelspec": {
   "display_name": "SageMath 9.0",
   "language": "sage",
   "name": "sagemath"
  },
  "language_info": {
   "codemirror_mode": {
    "name": "ipython",
    "version": 3
   },
   "file_extension": ".py",
   "mimetype": "text/x-python",
   "name": "python",
   "nbconvert_exporter": "python",
   "pygments_lexer": "ipython3",
   "version": "3.7.3"
  }
 },
 "nbformat": 4,
 "nbformat_minor": 2
}
